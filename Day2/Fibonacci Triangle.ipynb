{
 "cells": [
  {
   "cell_type": "code",
   "execution_count": 56,
   "metadata": {},
   "outputs": [],
   "source": [
    "# A function that generates the nth Fibonacci number\n",
    "def fib(n):\n",
    "    if(n==0):\n",
    "        return 0\n",
    "    if(n==1):\n",
    "        return 1\n",
    "    return fib(n-1)+fib(n-2)"
   ]
  },
  {
   "cell_type": "code",
   "execution_count": 76,
   "metadata": {},
   "outputs": [],
   "source": [
    "#This was my original solution \n",
    "def fib_triangle(n):\n",
    "    if(n<=0):\n",
    "        print(\"Invalid input\")\n",
    "    else:\n",
    "        for i in range(1,n+1):\n",
    "            for h in range(1,i+1):\n",
    "                a = fib(int(h + i*(i-1)/2))  #Each element is being calculated and printed immediately. h+i*(i-1)/2 gives the position of the element if it was a linear Fibonacci sequence\n",
    "                print(a, end=' ')\n",
    "            print()"
   ]
  },
  {
   "cell_type": "code",
   "execution_count": 84,
   "metadata": {},
   "outputs": [],
   "source": [
    "#I used a function from the solution (where nested loops were avoided) along with fib(n) function\n",
    "#This drastically reduces the runtime\n",
    "def fib_triangle_2(n):\n",
    "    if(n<=0):\n",
    "        print(\"Invalid input\")\n",
    "    else:\n",
    "        k = int(n*(n+1)/2)\n",
    "        l = []\n",
    "        for i in range(1,k+1):\n",
    "            l.append(fib(i))\n",
    "        loc = 0                               #Here the list l is broken down into segments of increasing size and each segment is printed\n",
    "        for size in range(1, n+1):            #'size' represents the length of each segment which is incremented in each iteration\n",
    "            print(*l[loc: loc+size], sep=' ') #loc marks the position of the start of each segment.\n",
    "            loc += size"
   ]
  },
  {
   "cell_type": "code",
   "execution_count": 63,
   "metadata": {},
   "outputs": [],
   "source": [
    "import time"
   ]
  },
  {
   "cell_type": "code",
   "execution_count": 79,
   "metadata": {},
   "outputs": [
    {
     "name": "stdout",
     "output_type": "stream",
     "text": [
      "1 \n",
      "1 2 \n",
      "3 5 8 \n",
      "13 21 34 55 \n",
      "89 144 233 377 610 \n",
      "\n",
      "Runtime: 0.003994941711425781\n"
     ]
    }
   ],
   "source": [
    "start = time.time()\n",
    "fib_triangle(5)\n",
    "end = time.time()\n",
    "\n",
    "print(\"\\nRuntime: {}\".format(end-start))"
   ]
  },
  {
   "cell_type": "code",
   "execution_count": 86,
   "metadata": {},
   "outputs": [
    {
     "name": "stdout",
     "output_type": "stream",
     "text": [
      "1\n",
      "1 2\n",
      "3 5 8\n",
      "13 21 34 55\n",
      "89 144 233 377 610\n",
      "\n",
      "Runtime: 0.001996278762817383\n"
     ]
    }
   ],
   "source": [
    "start = time.time()\n",
    "fib_triangle_2(5)\n",
    "end = time.time()\n",
    "\n",
    "print(\"\\nRuntime: {}\".format(end-start))"
   ]
  }
 ],
 "metadata": {
  "kernelspec": {
   "display_name": "Python 3",
   "language": "python",
   "name": "python3"
  },
  "language_info": {
   "codemirror_mode": {
    "name": "ipython",
    "version": 3
   },
   "file_extension": ".py",
   "mimetype": "text/x-python",
   "name": "python",
   "nbconvert_exporter": "python",
   "pygments_lexer": "ipython3",
   "version": "3.7.3"
  }
 },
 "nbformat": 4,
 "nbformat_minor": 2
}
